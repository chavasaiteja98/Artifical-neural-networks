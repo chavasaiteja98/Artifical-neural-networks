{
  "nbformat": 4,
  "nbformat_minor": 0,
  "metadata": {
    "colab": {
      "name": "ann.ipynb",
      "provenance": [],
      "collapsed_sections": []
    },
    "kernelspec": {
      "name": "python3",
      "display_name": "Python 3"
    },
    "language_info": {
      "name": "python"
    }
  },
  "cells": [
    {
      "cell_type": "code",
      "metadata": {
        "id": "7LdA_s5jqyg_"
      },
      "source": [
        "import numpy as np \n",
        "import pandas as pd \n",
        "import matplotlib.pyplot as plt\n",
        "np.random.seed(32)"
      ],
      "execution_count": null,
      "outputs": []
    },
    {
      "cell_type": "code",
      "metadata": {
        "id": "xz-VhIeZrAj4"
      },
      "source": [
        "from tensorflow.keras.models import Sequential\n",
        "\n",
        "from tensorflow.keras.layers import Dense,Dropout,Activation, Flatten, Conv2D, MaxPooling2D"
      ],
      "execution_count": null,
      "outputs": []
    },
    {
      "cell_type": "code",
      "metadata": {
        "id": "_8SUhWZ9rMxP"
      },
      "source": [
        "from sklearn.model_selection import train_test_split\n",
        "from sklearn.metrics import roc_auc_score\n",
        "from sklearn.manifold import TSNE"
      ],
      "execution_count": null,
      "outputs": []
    },
    {
      "cell_type": "code",
      "metadata": {
        "id": "U2aWDv_hrTg2"
      },
      "source": [
        "from keras.preprocessing.text import Tokenizer\n",
        "from keras.preprocessing.sequence import pad_sequences\n",
        "from keras.layers import LSTM, Conv1D, MaxPooling1D, Dropout\n",
        "from keras.utils.np_utils import to_categorical"
      ],
      "execution_count": null,
      "outputs": []
    },
    {
      "cell_type": "code",
      "metadata": {
        "id": "sL8cslgerZMc"
      },
      "source": [
        "%matplotlib inline"
      ],
      "execution_count": null,
      "outputs": []
    },
    {
      "cell_type": "code",
      "metadata": {
        "id": "p5OiP6Shrc8N"
      },
      "source": [
        "df = pd.read_csv(\"/content/onlinereviews.csv\")"
      ],
      "execution_count": null,
      "outputs": []
    },
    {
      "cell_type": "code",
      "metadata": {
        "colab": {
          "base_uri": "https://localhost:8080/",
          "height": 568
        },
        "id": "XTyK90nRv8Se",
        "outputId": "e8ffa4fe-e1bd-407f-ae82-fc63dfc89fae"
      },
      "source": [
        "df.head()"
      ],
      "execution_count": null,
      "outputs": [
        {
          "output_type": "execute_result",
          "data": {
            "text/html": [
              "<div>\n",
              "<style scoped>\n",
              "    .dataframe tbody tr th:only-of-type {\n",
              "        vertical-align: middle;\n",
              "    }\n",
              "\n",
              "    .dataframe tbody tr th {\n",
              "        vertical-align: top;\n",
              "    }\n",
              "\n",
              "    .dataframe thead th {\n",
              "        text-align: right;\n",
              "    }\n",
              "</style>\n",
              "<table border=\"1\" class=\"dataframe\">\n",
              "  <thead>\n",
              "    <tr style=\"text-align: right;\">\n",
              "      <th></th>\n",
              "      <th>id</th>\n",
              "      <th>brand</th>\n",
              "      <th>categories</th>\n",
              "      <th>dateAdded</th>\n",
              "      <th>dateUpdated</th>\n",
              "      <th>ean</th>\n",
              "      <th>keys</th>\n",
              "      <th>manufacturer</th>\n",
              "      <th>manufacturerNumber</th>\n",
              "      <th>name</th>\n",
              "      <th>reviews.date</th>\n",
              "      <th>reviews.dateAdded</th>\n",
              "      <th>reviews.dateSeen</th>\n",
              "      <th>reviews.didPurchase</th>\n",
              "      <th>reviews.doRecommend</th>\n",
              "      <th>reviews.id</th>\n",
              "      <th>reviews.numHelpful</th>\n",
              "      <th>reviews.rating</th>\n",
              "      <th>reviews.sourceURLs</th>\n",
              "      <th>reviews.text</th>\n",
              "      <th>reviews.title</th>\n",
              "      <th>reviews.userCity</th>\n",
              "      <th>reviews.userProvince</th>\n",
              "      <th>reviews.username</th>\n",
              "      <th>upc</th>\n",
              "    </tr>\n",
              "  </thead>\n",
              "  <tbody>\n",
              "    <tr>\n",
              "      <th>0</th>\n",
              "      <td>AV13O1A8GV-KLJ3akUyj</td>\n",
              "      <td>Universal Music</td>\n",
              "      <td>Movies, Music &amp; Books,Music,R&amp;b,Movies &amp; TV,Mo...</td>\n",
              "      <td>2017-07-25T00:52:42Z</td>\n",
              "      <td>2018-02-05T08:36:58Z</td>\n",
              "      <td>6.03E+11</td>\n",
              "      <td>602537205981,universalmusic/14331328,universal...</td>\n",
              "      <td>Universal Music Group / Cash Money</td>\n",
              "      <td>14331328</td>\n",
              "      <td>Pink Friday: Roman Reloaded Re-Up (w/dvd)</td>\n",
              "      <td>2012-11-30T06:21:45.000Z</td>\n",
              "      <td>2018-02-04T07:28:12Z</td>\n",
              "      <td>2018-01-15T04:45:00.000Z,2018-01-18T14:30:00.0...</td>\n",
              "      <td>NaN</td>\n",
              "      <td>NaN</td>\n",
              "      <td>NaN</td>\n",
              "      <td>0.0</td>\n",
              "      <td>5</td>\n",
              "      <td>https://redsky.target.com/groot-domain-api/v1/...</td>\n",
              "      <td>i love this album. it's very good. more to the...</td>\n",
              "      <td>Just Awesome</td>\n",
              "      <td>Los Angeles</td>\n",
              "      <td>NaN</td>\n",
              "      <td>Joshua</td>\n",
              "      <td>6.03E+11</td>\n",
              "    </tr>\n",
              "    <tr>\n",
              "      <th>1</th>\n",
              "      <td>AV14LG0R-jtxr-f38QfS</td>\n",
              "      <td>Lundberg</td>\n",
              "      <td>Food,Packaged Foods,Snacks,Crackers,Snacks, Co...</td>\n",
              "      <td>2017-07-25T05:16:03Z</td>\n",
              "      <td>2018-02-05T11:27:45Z</td>\n",
              "      <td>73416000391</td>\n",
              "      <td>lundbergorganiccinnamontoastricecakes/b000fvzw...</td>\n",
              "      <td>Lundberg</td>\n",
              "      <td>574764</td>\n",
              "      <td>Lundberg Organic Cinnamon Toast Rice Cakes</td>\n",
              "      <td>2017-07-09T00:00:00.000Z</td>\n",
              "      <td>2017-09-23T02:53:06Z</td>\n",
              "      <td>2017-09-16T09:45:00.000Z</td>\n",
              "      <td>True</td>\n",
              "      <td>NaN</td>\n",
              "      <td>100209113.0</td>\n",
              "      <td>NaN</td>\n",
              "      <td>5</td>\n",
              "      <td>https://www.walmart.com/reviews/product/29775278</td>\n",
              "      <td>Good flavor. This review was collected as part...</td>\n",
              "      <td>Good</td>\n",
              "      <td>NaN</td>\n",
              "      <td>NaN</td>\n",
              "      <td>Dorothy W</td>\n",
              "      <td>73416000391</td>\n",
              "    </tr>\n",
              "    <tr>\n",
              "      <th>2</th>\n",
              "      <td>AV14LG0R-jtxr-f38QfS</td>\n",
              "      <td>Lundberg</td>\n",
              "      <td>Food,Packaged Foods,Snacks,Crackers,Snacks, Co...</td>\n",
              "      <td>2017-07-25T05:16:03Z</td>\n",
              "      <td>2018-02-05T11:27:45Z</td>\n",
              "      <td>73416000391</td>\n",
              "      <td>lundbergorganiccinnamontoastricecakes/b000fvzw...</td>\n",
              "      <td>Lundberg</td>\n",
              "      <td>574764</td>\n",
              "      <td>Lundberg Organic Cinnamon Toast Rice Cakes</td>\n",
              "      <td>2017-07-09T00:00:00.000Z</td>\n",
              "      <td>2017-09-06T04:49:31Z</td>\n",
              "      <td>2017-08-23T10:37:00.000Z</td>\n",
              "      <td>True</td>\n",
              "      <td>NaN</td>\n",
              "      <td>100209113.0</td>\n",
              "      <td>NaN</td>\n",
              "      <td>5</td>\n",
              "      <td>https://www.walmart.com/reviews/product/29775278</td>\n",
              "      <td>Good flavor.</td>\n",
              "      <td>Good</td>\n",
              "      <td>NaN</td>\n",
              "      <td>NaN</td>\n",
              "      <td>Dorothy W</td>\n",
              "      <td>73416000391</td>\n",
              "    </tr>\n",
              "    <tr>\n",
              "      <th>3</th>\n",
              "      <td>AV16khLE-jtxr-f38VFn</td>\n",
              "      <td>K-Y</td>\n",
              "      <td>Personal Care,Medicine Cabinet,Lubricant/Sperm...</td>\n",
              "      <td>2017-07-25T16:26:19Z</td>\n",
              "      <td>2018-02-05T11:25:51Z</td>\n",
              "      <td>67981934427</td>\n",
              "      <td>kylovesensualitypleasuregel/b00u2whx8s,0679819...</td>\n",
              "      <td>K-Y</td>\n",
              "      <td>67981934427</td>\n",
              "      <td>K-Y Love Sensuality Pleasure Gel</td>\n",
              "      <td>2016-01-06T00:00:00.000Z</td>\n",
              "      <td>2017-09-11T17:13:57Z</td>\n",
              "      <td>2017-09-04T12:18:00.000Z,2017-08-09T02:12:00.000Z</td>\n",
              "      <td>False</td>\n",
              "      <td>False</td>\n",
              "      <td>113026909.0</td>\n",
              "      <td>NaN</td>\n",
              "      <td>1</td>\n",
              "      <td>https://www.walmart.com/reviews/product/43383370</td>\n",
              "      <td>I read through the reviews on here before look...</td>\n",
              "      <td>Disappointed</td>\n",
              "      <td>NaN</td>\n",
              "      <td>NaN</td>\n",
              "      <td>Rebecca</td>\n",
              "      <td>67981934427</td>\n",
              "    </tr>\n",
              "    <tr>\n",
              "      <th>4</th>\n",
              "      <td>AV16khLE-jtxr-f38VFn</td>\n",
              "      <td>K-Y</td>\n",
              "      <td>Personal Care,Medicine Cabinet,Lubricant/Sperm...</td>\n",
              "      <td>2017-07-25T16:26:19Z</td>\n",
              "      <td>2018-02-05T11:25:51Z</td>\n",
              "      <td>67981934427</td>\n",
              "      <td>kylovesensualitypleasuregel/b00u2whx8s,0679819...</td>\n",
              "      <td>K-Y</td>\n",
              "      <td>67981934427</td>\n",
              "      <td>K-Y Love Sensuality Pleasure Gel</td>\n",
              "      <td>2016-12-21T00:00:00.000Z</td>\n",
              "      <td>2017-09-11T17:13:57Z</td>\n",
              "      <td>2017-09-04T12:18:00.000Z,2017-08-09T02:12:00.000Z</td>\n",
              "      <td>False</td>\n",
              "      <td>False</td>\n",
              "      <td>171267657.0</td>\n",
              "      <td>NaN</td>\n",
              "      <td>1</td>\n",
              "      <td>https://www.walmart.com/reviews/product/43383370</td>\n",
              "      <td>My husband bought this gel for us. The gel cau...</td>\n",
              "      <td>Irritation</td>\n",
              "      <td>NaN</td>\n",
              "      <td>NaN</td>\n",
              "      <td>Walker557</td>\n",
              "      <td>67981934427</td>\n",
              "    </tr>\n",
              "  </tbody>\n",
              "</table>\n",
              "</div>"
            ],
            "text/plain": [
              "                     id            brand  ... reviews.username          upc\n",
              "0  AV13O1A8GV-KLJ3akUyj  Universal Music  ...           Joshua     6.03E+11\n",
              "1  AV14LG0R-jtxr-f38QfS         Lundberg  ...        Dorothy W  73416000391\n",
              "2  AV14LG0R-jtxr-f38QfS         Lundberg  ...        Dorothy W  73416000391\n",
              "3  AV16khLE-jtxr-f38VFn              K-Y  ...          Rebecca  67981934427\n",
              "4  AV16khLE-jtxr-f38VFn              K-Y  ...        Walker557  67981934427\n",
              "\n",
              "[5 rows x 25 columns]"
            ]
          },
          "metadata": {
            "tags": []
          },
          "execution_count": 33
        }
      ]
    },
    {
      "cell_type": "code",
      "metadata": {
        "colab": {
          "base_uri": "https://localhost:8080/",
          "height": 332
        },
        "id": "OsuOrupfK163",
        "outputId": "1e531949-4b71-45ac-b4e5-1992ab9df4ef"
      },
      "source": [
        "plt.hist(df['reviews.rating'])"
      ],
      "execution_count": null,
      "outputs": [
        {
          "output_type": "execute_result",
          "data": {
            "text/plain": [
              "(array([ 3701.,     0.,  1833.,     0.,     0.,  4369.,     0., 14598.,\n",
              "            0., 46543.]),\n",
              " array([1. , 1.4, 1.8, 2.2, 2.6, 3. , 3.4, 3.8, 4.2, 4.6, 5. ]),\n",
              " <a list of 10 Patch objects>)"
            ]
          },
          "metadata": {
            "tags": []
          },
          "execution_count": 34
        },
        {
          "output_type": "display_data",
          "data": {
            "image/png": "[encoded data removed]",
            "text/plain": [
              "<Figure size 432x288 with 1 Axes>"
            ]
          },
          "metadata": {
            "tags": [],
            "needs_background": "light"
          }
        }
      ]
    },
    {
      "cell_type": "code",
      "metadata": {
        "id": "Miji6RX9NjTu"
      },
      "source": [
        "df['target'] = df['reviews.rating']<4"
      ],
      "execution_count": null,
      "outputs": []
    },
    {
      "cell_type": "code",
      "metadata": {
        "id": "-FcI93XYN6Rs"
      },
      "source": [
        "train_text, test_text, train_y, test_y = train_test_split(df['reviews.text'],df['target'],test_size = 0.2)"
      ],
      "execution_count": null,
      "outputs": []
    },
    {
      "cell_type": "code",
      "metadata": {
        "colab": {
          "base_uri": "https://localhost:8080/"
        },
        "id": "9iG14I5TOERY",
        "outputId": "682a0e89-8f7c-4107-9794-3a9e7e73a4cd"
      },
      "source": [
        "train_text.shape"
      ],
      "execution_count": null,
      "outputs": [
        {
          "output_type": "execute_result",
          "data": {
            "text/plain": [
              "(56835,)"
            ]
          },
          "metadata": {
            "tags": []
          },
          "execution_count": 37
        }
      ]
    },
    {
      "cell_type": "code",
      "metadata": {
        "id": "QkZ-G4oYOjsX"
      },
      "source": [
        "MAX_WORDS = 30000"
      ],
      "execution_count": null,
      "outputs": []
    },
    {
      "cell_type": "code",
      "metadata": {
        "id": "1bWfs0JGO3Lt"
      },
      "source": [
        "texts_train = train_text.astype(str)\n",
        "texts_test = test_text.astype(str)"
      ],
      "execution_count": null,
      "outputs": []
    },
    {
      "cell_type": "code",
      "metadata": {
        "colab": {
          "base_uri": "https://localhost:8080/"
        },
        "id": "cUsfexnJO77e",
        "outputId": "f9c8f749-43e2-4e1f-fc20-b118934c2118"
      },
      "source": [
        "tokenizer = Tokenizer(nb_words=MAX_WORDS, char_level=False)\n",
        "tokenizer.fit_on_texts(texts_train)\n",
        "sequences = tokenizer.texts_to_sequences(texts_train)\n",
        "sequences_test = tokenizer.texts_to_sequences(texts_test)"
      ],
      "execution_count": null,
      "outputs": [
        {
          "output_type": "stream",
          "text": [
            "/usr/local/lib/python3.7/dist-packages/keras_preprocessing/text.py:180: UserWarning: The `nb_words` argument in `Tokenizer` has been renamed `num_words`.\n",
            "  warnings.warn('The `nb_words` argument in `Tokenizer` '\n"
          ],
          "name": "stderr"
        }
      ]
    },
    {
      "cell_type": "code",
      "metadata": {
        "colab": {
          "base_uri": "https://localhost:8080/"
        },
        "id": "2BCy_5I_PGeu",
        "outputId": "10464883-23e3-42ba-d53d-d5124b4c872e"
      },
      "source": [
        "word_index = tokenizer.word_index\n",
        "print('Found %s unique tokens.' % len(word_index))"
      ],
      "execution_count": null,
      "outputs": [
        {
          "output_type": "stream",
          "text": [
            "Found 26057 unique tokens.\n"
          ],
          "name": "stdout"
        }
      ]
    },
    {
      "cell_type": "code",
      "metadata": {
        "colab": {
          "base_uri": "https://localhost:8080/"
        },
        "id": "IPrHWHYzPlbA",
        "outputId": "09e2ff01-e798-48de-ee5a-c439c3d0570c"
      },
      "source": [
        "sequences[7]"
      ],
      "execution_count": null,
      "outputs": [
        {
          "output_type": "execute_result",
          "data": {
            "text/plain": [
              "[39, 8, 1, 84, 170, 155, 14, 6820, 3310, 4, 412, 3738, 20, 84, 605, 84, 98]"
            ]
          },
          "metadata": {
            "tags": []
          },
          "execution_count": 79
        }
      ]
    },
    {
      "cell_type": "code",
      "metadata": {
        "colab": {
          "base_uri": "https://localhost:8080/"
        },
        "id": "Sy20s1PnQyM3",
        "outputId": "36c34aff-bd5e-4877-89a5-f09118eb1fdb"
      },
      "source": [
        "type(tokenizer.word_index), len(tokenizer.word_index)"
      ],
      "execution_count": null,
      "outputs": [
        {
          "output_type": "execute_result",
          "data": {
            "text/plain": [
              "(dict, 26057)"
            ]
          },
          "metadata": {
            "tags": []
          },
          "execution_count": 80
        }
      ]
    },
    {
      "cell_type": "code",
      "metadata": {
        "id": "RNhLRtlGQ2UD"
      },
      "source": [
        "index_to_word = dict((i, w) for w, i in tokenizer.word_index.items())"
      ],
      "execution_count": null,
      "outputs": []
    },
    {
      "cell_type": "code",
      "metadata": {
        "colab": {
          "base_uri": "https://localhost:8080/",
          "height": 35
        },
        "id": "5Dbh9FGGQ_D2",
        "outputId": "20f7dc36-c777-4a1e-a3fe-3446a795cc13"
      },
      "source": [
        "\" \".join([index_to_word[i] for i in sequences[7]])"
      ],
      "execution_count": null,
      "outputs": [
        {
          "output_type": "execute_result",
          "data": {
            "application/vnd.google.colaboratory.intrinsic+json": {
              "type": "string"
            },
            "text/plain": [
              "'one of the best movies made in 1994 surely a classic cult movie best deal best buy'"
            ]
          },
          "metadata": {
            "tags": []
          },
          "execution_count": 83
        }
      ]
    },
    {
      "cell_type": "code",
      "metadata": {
        "colab": {
          "base_uri": "https://localhost:8080/"
        },
        "id": "bnlqs6sATTI1",
        "outputId": "16a9e389-bf92-41ce-d4d7-11f1991d9149"
      },
      "source": [
        "seq_lens = [len(s) for s in sequences]\n",
        "print(\"average length: %0.1f\" % np.mean(seq_lens))\n",
        "print(\"max length: %d\" % max(seq_lens))"
      ],
      "execution_count": null,
      "outputs": [
        {
          "output_type": "stream",
          "text": [
            "average length: 39.5\n",
            "max length: 1036\n"
          ],
          "name": "stdout"
        }
      ]
    },
    {
      "cell_type": "code",
      "metadata": {
        "colab": {
          "base_uri": "https://localhost:8080/",
          "height": 265
        },
        "id": "wyo5_HCaTZDV",
        "outputId": "5ef234a2-b06f-4a26-c8d7-bac71d2d1dce"
      },
      "source": [
        "%matplotlib inline\n",
        "import matplotlib.pyplot as plt\n",
        "\n",
        "plt.hist(seq_lens, bins=50);"
      ],
      "execution_count": null,
      "outputs": [
        {
          "output_type": "display_data",
          "data": {
            "image/png": "[encoded data removed]",
            "text/plain": [
              "<Figure size 432x288 with 1 Axes>"
            ]
          },
          "metadata": {
            "tags": [],
            "needs_background": "light"
          }
        }
      ]
    },
    {
      "cell_type": "code",
      "metadata": {
        "colab": {
          "base_uri": "https://localhost:8080/",
          "height": 265
        },
        "id": "IvkwZxc2TcqY",
        "outputId": "81024949-184d-41e6-aac9-99550269f905"
      },
      "source": [
        "plt.hist([l for l in seq_lens if l < 200], bins=50);"
      ],
      "execution_count": null,
      "outputs": [
        {
          "output_type": "display_data",
          "data": {
            "image/png": "[encoded data removed]",
            "text/plain": [
              "<Figure size 432x288 with 1 Axes>"
            ]
          },
          "metadata": {
            "tags": [],
            "needs_background": "light"
          }
        }
      ]
    },
    {
      "cell_type": "code",
      "metadata": {
        "colab": {
          "base_uri": "https://localhost:8080/"
        },
        "id": "tslbKWk-TxQ_",
        "outputId": "fdb5e5b1-2638-4b4f-d25c-08ad249a5116"
      },
      "source": [
        "SEQUENCE_LENGTH = 250\n",
        "\n",
        "\n",
        "x_train = pad_sequences(sequences, maxlen=SEQUENCE_LENGTH)\n",
        "x_test = pad_sequences(sequences_test, maxlen=SEQUENCE_LENGTH)\n",
        "print('Shape of data tensor:', x_train.shape)\n",
        "print('Shape of data test tensor:', x_test.shape)"
      ],
      "execution_count": null,
      "outputs": [
        {
          "output_type": "stream",
          "text": [
            "Shape of data tensor: (56835, 250)\n",
            "Shape of data test tensor: (14209, 250)\n"
          ],
          "name": "stdout"
        }
      ]
    },
    {
      "cell_type": "code",
      "metadata": {
        "colab": {
          "base_uri": "https://localhost:8080/"
        },
        "id": "U3McwEuoT91y",
        "outputId": "0905b27c-c5c7-43e6-c79a-b2c5b395ff3f"
      },
      "source": [
        "y_train = train_y\n",
        "y_test = test_y\n",
        "\n",
        "y_train = to_categorical(np.asarray(y_train))\n",
        "print('Shape of label tensor:', y_train.shape)"
      ],
      "execution_count": null,
      "outputs": [
        {
          "output_type": "stream",
          "text": [
            "Shape of label tensor: (56835, 2)\n"
          ],
          "name": "stdout"
        }
      ]
    },
    {
      "cell_type": "code",
      "metadata": {
        "id": "_oPnBtWLUXJz"
      },
      "source": [
        "from keras.layers import Dense, Input, Flatten\n",
        "from keras.layers import GlobalAveragePooling1D, Embedding\n",
        "from keras.models import Model\n",
        "\n"
      ],
      "execution_count": null,
      "outputs": []
    },
    {
      "cell_type": "code",
      "metadata": {
        "id": "pExB2g4EUlz2"
      },
      "source": [
        "\n",
        "DIMENSION = 150\n",
        "NUM_CLASSES = 2\n",
        "\n",
        "\n",
        "sequence_input = Input(shape=(SEQUENCE_LENGTH,), dtype='int32')\n",
        "\n",
        "embedding_layer = Embedding(MAX_WORDS, DIMENSION,\n",
        "                            input_length=SEQUENCE_LENGTH,\n",
        "                            trainable=True)\n",
        "embedded_sequences = embedding_layer(sequence_input)\n",
        "\n",
        "average = GlobalAveragePooling1D()(embedded_sequences)\n",
        "predictions = Dense(NUM_CLASSES, activation='softmax')(average)\n",
        "\n",
        "model = Model(sequence_input, predictions)\n",
        "model.compile(loss='categorical_crossentropy',\n",
        "              optimizer='adam', metrics=['acc'])"
      ],
      "execution_count": null,
      "outputs": []
    },
    {
      "cell_type": "code",
      "metadata": {
        "colab": {
          "base_uri": "https://localhost:8080/"
        },
        "id": "-PpD7qlyVDec",
        "outputId": "e4d42bf4-7ff5-47f6-97d6-419d8ddd7aed"
      },
      "source": [
        "history=model.fit(x_train, y_train, validation_split=0.1, epochs=20, batch_size=128)\n",
        "\n",
        "          \n"
      ],
      "execution_count": null,
      "outputs": [
        {
          "output_type": "stream",
          "text": [
            "Epoch 1/20\n",
            "400/400 [==============================] - 27s 67ms/step - loss: 0.1182 - acc: 0.9580 - val_loss: 0.2700 - val_acc: 0.9171\n",
            "Epoch 2/20\n",
            "400/400 [==============================] - 28s 70ms/step - loss: 0.1152 - acc: 0.9594 - val_loss: 0.2759 - val_acc: 0.9163\n",
            "Epoch 3/20\n",
            "400/400 [==============================] - 27s 69ms/step - loss: 0.1136 - acc: 0.9595 - val_loss: 0.2856 - val_acc: 0.9168\n",
            "Epoch 4/20\n",
            "400/400 [==============================] - 28s 70ms/step - loss: 0.1113 - acc: 0.9613 - val_loss: 0.2915 - val_acc: 0.9164\n",
            "Epoch 5/20\n",
            "400/400 [==============================] - 27s 69ms/step - loss: 0.1083 - acc: 0.9627 - val_loss: 0.2880 - val_acc: 0.9148\n",
            "Epoch 6/20\n",
            "400/400 [==============================] - 27s 68ms/step - loss: 0.1068 - acc: 0.9628 - val_loss: 0.2935 - val_acc: 0.9145\n",
            "Epoch 7/20\n",
            "400/400 [==============================] - 27s 68ms/step - loss: 0.1049 - acc: 0.9637 - val_loss: 0.2976 - val_acc: 0.9145\n",
            "Epoch 8/20\n",
            "400/400 [==============================] - 27s 68ms/step - loss: 0.1028 - acc: 0.9646 - val_loss: 0.3095 - val_acc: 0.9168\n",
            "Epoch 9/20\n",
            "400/400 [==============================] - 27s 67ms/step - loss: 0.1018 - acc: 0.9649 - val_loss: 0.3067 - val_acc: 0.9134\n",
            "Epoch 10/20\n",
            "400/400 [==============================] - 27s 67ms/step - loss: 0.0997 - acc: 0.9659 - val_loss: 0.3199 - val_acc: 0.9078\n",
            "Epoch 11/20\n",
            "400/400 [==============================] - 28s 69ms/step - loss: 0.0982 - acc: 0.9665 - val_loss: 0.3168 - val_acc: 0.9119\n",
            "Epoch 12/20\n",
            "400/400 [==============================] - 27s 68ms/step - loss: 0.0957 - acc: 0.9673 - val_loss: 0.3418 - val_acc: 0.9152\n",
            "Epoch 13/20\n",
            "400/400 [==============================] - 27s 68ms/step - loss: 0.0949 - acc: 0.9674 - val_loss: 0.3275 - val_acc: 0.9154\n",
            "Epoch 14/20\n",
            "400/400 [==============================] - 27s 68ms/step - loss: 0.0933 - acc: 0.9688 - val_loss: 0.3477 - val_acc: 0.9145\n",
            "Epoch 15/20\n",
            "400/400 [==============================] - 27s 69ms/step - loss: 0.0925 - acc: 0.9679 - val_loss: 0.3395 - val_acc: 0.9141\n",
            "Epoch 16/20\n",
            "400/400 [==============================] - 27s 68ms/step - loss: 0.0905 - acc: 0.9692 - val_loss: 0.3532 - val_acc: 0.9148\n",
            "Epoch 17/20\n",
            "400/400 [==============================] - 27s 68ms/step - loss: 0.0891 - acc: 0.9695 - val_loss: 0.3506 - val_acc: 0.9115\n",
            "Epoch 18/20\n",
            "400/400 [==============================] - 27s 67ms/step - loss: 0.0880 - acc: 0.9709 - val_loss: 0.3535 - val_acc: 0.9110\n",
            "Epoch 19/20\n",
            "400/400 [==============================] - 27s 68ms/step - loss: 0.0865 - acc: 0.9706 - val_loss: 0.3611 - val_acc: 0.9110\n",
            "Epoch 20/20\n",
            "400/400 [==============================] - 27s 68ms/step - loss: 0.0855 - acc: 0.9719 - val_loss: 0.3665 - val_acc: 0.9110\n"
          ],
          "name": "stdout"
        }
      ]
    },
    {
      "cell_type": "code",
      "metadata": {
        "colab": {
          "base_uri": "https://localhost:8080/",
          "height": 312
        },
        "id": "_p9hc-E6ZcLe",
        "outputId": "269c68b8-8b65-47ba-c6d5-b7e7f564e2eb"
      },
      "source": [
        "plt.plot(history.history['acc'])\n",
        "plt.plot(history.history['val_acc'])\n",
        "plt.title('accuracy')\n",
        "plt.ylabel('acc')\n",
        "plt.xlabel('epoch')\n",
        "plt.legend(['train','val'], loc='lower right')\n",
        "plt.show"
      ],
      "execution_count": null,
      "outputs": [
        {
          "output_type": "execute_result",
          "data": {
            "text/plain": [
              "<function matplotlib.pyplot.show>"
            ]
          },
          "metadata": {
            "tags": []
          },
          "execution_count": 111
        },
        {
          "output_type": "display_data",
          "data": {
            "image/png": "[encoded data removed]",
            "text/plain": [
              "<Figure size 432x288 with 1 Axes>"
            ]
          },
          "metadata": {
            "tags": [],
            "needs_background": "light"
          }
        }
      ]
    },
    {
      "cell_type": "code",
      "metadata": {
        "colab": {
          "base_uri": "https://localhost:8080/",
          "height": 312
        },
        "id": "nM5aI3xrfUIe",
        "outputId": "38052954-c072-4444-ef45-0a2130a31d4c"
      },
      "source": [
        "plt.plot(history.history['loss'])\n",
        "plt.plot(history.history['val_loss'])\n",
        "plt.title(' model loss')\n",
        "plt.ylabel('loss')\n",
        "plt.xlabel('epoch')\n",
        "plt.legend(['train','val'], loc='lower right')\n",
        "plt.show"
      ],
      "execution_count": null,
      "outputs": [
        {
          "output_type": "execute_result",
          "data": {
            "text/plain": [
              "<function matplotlib.pyplot.show>"
            ]
          },
          "metadata": {
            "tags": []
          },
          "execution_count": 112
        },
        {
          "output_type": "display_data",
          "data": {
            "image/png": "[encoded data removed]",
            "text/plain": [
              "<Figure size 432x288 with 1 Axes>"
            ]
          },
          "metadata": {
            "tags": [],
            "needs_background": "light"
          }
        }
      ]
    },
    {
      "cell_type": "code",
      "metadata": {
        "colab": {
          "base_uri": "https://localhost:8080/"
        },
        "id": "4B97NWVmfwK-",
        "outputId": "644d7278-dcbe-4024-f2de-72ca9bf7b562"
      },
      "source": [
        "output_test = model.predict(x_test)\n",
        "print(\"test auc:\", roc_auc_score(y_test,output_test[:,1]))"
      ],
      "execution_count": null,
      "outputs": [
        {
          "output_type": "stream",
          "text": [
            "test auc: 0.8805006227271571\n"
          ],
          "name": "stdout"
        }
      ]
    },
    {
      "cell_type": "code",
      "metadata": {
        "id": "umDIPQmLf6aj"
      },
      "source": [
        "sequence_input = Input(shape=(SEQUENCE_LENGTH,), dtype='int32')\n",
        "embedded_sequences = embedding_layer(sequence_input)\n",
        "\n",
        "x = LSTM(128, dropout=0.2, recurrent_dropout=0.2)(embedded_sequences)\n",
        "predictions = Dense(2, activation='softmax')(x)\n",
        "\n",
        "\n",
        "model = Model(sequence_input, predictions)\n",
        "model.compile(loss='categorical_crossentropy',\n",
        "              optimizer='adam',\n",
        "              metrics=['acc'])"
      ],
      "execution_count": null,
      "outputs": []
    },
    {
      "cell_type": "code",
      "metadata": {
        "colab": {
          "base_uri": "https://localhost:8080/"
        },
        "id": "McaNaxhhh-D6",
        "outputId": "72187aa3-c366-4550-d64e-93fa32725c5c"
      },
      "source": [
        "history1=model.fit(x_train, y_train, validation_split=0.1,\n",
        "          epochs=20, batch_size=128)"
      ],
      "execution_count": null,
      "outputs": [
        {
          "output_type": "stream",
          "text": [
            "Epoch 1/20\n",
            "400/400 [==============================] - 767s 2s/step - loss: 0.1009 - acc: 0.9647 - val_loss: 0.3752 - val_acc: 0.9015\n",
            "Epoch 2/20\n",
            "400/400 [==============================] - 737s 2s/step - loss: 0.0931 - acc: 0.9680 - val_loss: 0.3710 - val_acc: 0.9066\n",
            "Epoch 3/20\n",
            "400/400 [==============================] - 706s 2s/step - loss: 0.0924 - acc: 0.9686 - val_loss: 0.3335 - val_acc: 0.9048\n",
            "Epoch 4/20\n",
            "400/400 [==============================] - 728s 2s/step - loss: 0.0826 - acc: 0.9724 - val_loss: 0.3900 - val_acc: 0.9092\n",
            "Epoch 5/20\n",
            "400/400 [==============================] - 698s 2s/step - loss: 0.0761 - acc: 0.9742 - val_loss: 0.3536 - val_acc: 0.9059\n",
            "Epoch 6/20\n",
            "400/400 [==============================] - 691s 2s/step - loss: 0.0687 - acc: 0.9774 - val_loss: 0.3641 - val_acc: 0.9069\n",
            "Epoch 7/20\n",
            "400/400 [==============================] - 689s 2s/step - loss: 0.0677 - acc: 0.9776 - val_loss: 0.3866 - val_acc: 0.9069\n",
            "Epoch 8/20\n",
            "400/400 [==============================] - 696s 2s/step - loss: 0.0590 - acc: 0.9805 - val_loss: 0.4334 - val_acc: 0.9036\n",
            "Epoch 9/20\n",
            "400/400 [==============================] - 708s 2s/step - loss: 0.0567 - acc: 0.9811 - val_loss: 0.4546 - val_acc: 0.9053\n",
            "Epoch 10/20\n",
            "400/400 [==============================] - 725s 2s/step - loss: 0.0483 - acc: 0.9841 - val_loss: 0.4573 - val_acc: 0.9087\n",
            "Epoch 11/20\n",
            "400/400 [==============================] - 695s 2s/step - loss: 0.0831 - acc: 0.9712 - val_loss: 0.3567 - val_acc: 0.9076\n",
            "Epoch 12/20\n",
            "400/400 [==============================] - 713s 2s/step - loss: 0.0507 - acc: 0.9829 - val_loss: 0.4502 - val_acc: 0.9078\n",
            "Epoch 13/20\n",
            "400/400 [==============================] - 726s 2s/step - loss: 0.0441 - acc: 0.9857 - val_loss: 0.4502 - val_acc: 0.9041\n",
            "Epoch 14/20\n",
            "400/400 [==============================] - 695s 2s/step - loss: 0.0392 - acc: 0.9875 - val_loss: 0.5369 - val_acc: 0.9053\n",
            "Epoch 15/20\n",
            "400/400 [==============================] - 719s 2s/step - loss: 0.0356 - acc: 0.9889 - val_loss: 0.5516 - val_acc: 0.9062\n",
            "Epoch 16/20\n",
            "400/400 [==============================] - 728s 2s/step - loss: 0.0310 - acc: 0.9898 - val_loss: 0.5341 - val_acc: 0.9083\n",
            "Epoch 17/20\n",
            "400/400 [==============================] - 700s 2s/step - loss: 0.0355 - acc: 0.9889 - val_loss: 0.5800 - val_acc: 0.9045\n",
            "Epoch 18/20\n",
            "400/400 [==============================] - 708s 2s/step - loss: 0.0266 - acc: 0.9916 - val_loss: 0.6059 - val_acc: 0.9036\n",
            "Epoch 19/20\n",
            "400/400 [==============================] - 709s 2s/step - loss: 0.0281 - acc: 0.9915 - val_loss: 0.6077 - val_acc: 0.8999\n",
            "Epoch 20/20\n",
            "400/400 [==============================] - 706s 2s/step - loss: 0.0256 - acc: 0.9919 - val_loss: 0.6267 - val_acc: 0.9029\n"
          ],
          "name": "stdout"
        }
      ]
    },
    {
      "cell_type": "code",
      "metadata": {
        "colab": {
          "base_uri": "https://localhost:8080/",
          "height": 312
        },
        "id": "THZkLxZpZWAU",
        "outputId": "fb2396b2-f957-4832-9dd4-7ce7eade446e"
      },
      "source": [
        "plt.plot(history1.history['acc'])\n",
        "plt.plot(history1.history['val_acc'])\n",
        "plt.title('accuracy')\n",
        "plt.ylabel('acc')\n",
        "plt.xlabel('epoch')\n",
        "plt.legend(['train','val'], loc='lower right')\n",
        "plt.show"
      ],
      "execution_count": null,
      "outputs": [
        {
          "output_type": "execute_result",
          "data": {
            "text/plain": [
              "<function matplotlib.pyplot.show>"
            ]
          },
          "metadata": {
            "tags": []
          },
          "execution_count": 118
        },
        {
          "output_type": "display_data",
          "data": {
            "image/png": "[encoded data removed]",
            "text/plain": [
              "<Figure size 432x288 with 1 Axes>"
            ]
          },
          "metadata": {
            "tags": [],
            "needs_background": "light"
          }
        }
      ]
    },
    {
      "cell_type": "code",
      "metadata": {
        "colab": {
          "base_uri": "https://localhost:8080/",
          "height": 312
        },
        "id": "a6NCTUYtZxwf",
        "outputId": "0314707f-2b04-49b2-96a7-5b1b4198dde9"
      },
      "source": [
        "plt.plot(history1.history['loss'])\n",
        "plt.plot(history1.history['val_loss'])\n",
        "plt.title(' model loss')\n",
        "plt.ylabel('loss')\n",
        "plt.xlabel('epoch')\n",
        "plt.legend(['train','val'], loc='lower right')\n",
        "plt.show"
      ],
      "execution_count": null,
      "outputs": [
        {
          "output_type": "execute_result",
          "data": {
            "text/plain": [
              "<function matplotlib.pyplot.show>"
            ]
          },
          "metadata": {
            "tags": []
          },
          "execution_count": 119
        },
        {
          "output_type": "display_data",
          "data": {
            "image/png": "[encoded data removed]",
            "text/plain": [
              "<Figure size 432x288 with 1 Axes>"
            ]
          },
          "metadata": {
            "tags": [],
            "needs_background": "light"
          }
        }
      ]
    },
    {
      "cell_type": "code",
      "metadata": {
        "colab": {
          "base_uri": "https://localhost:8080/"
        },
        "id": "X7yr5u70aFrM",
        "outputId": "1f25bda0-db9d-433d-e043-08097c1e3e11"
      },
      "source": [
        "output_test = model.predict(x_test)\n",
        "print(\"test auc:\", roc_auc_score(y_test,output_test[:,1]))"
      ],
      "execution_count": null,
      "outputs": [
        {
          "output_type": "stream",
          "text": [
            "test auc: 0.8303495507577192\n"
          ],
          "name": "stdout"
        }
      ]
    },
    {
      "cell_type": "code",
      "metadata": {
        "id": "xjg5T6qlaerh"
      },
      "source": [
        "sequence_input = Input(shape=(SEQUENCE_LENGTH,), dtype='int32')\n",
        "embedded_sequences = embedding_layer(sequence_input)\n",
        "\n",
        "# convolution with 64 output channels\n",
        "x = Conv1D(64, 5)(embedded_sequences)\n",
        "# MaxPool divides the length of the sequence by 5\n",
        "x = MaxPooling1D(5)(x)\n",
        "x = Dropout(0.2)(x)\n",
        "x = Conv1D(64, 5)(x)\n",
        "x = MaxPooling1D(5)(x)\n",
        "# LSTM layer with a hidden size of 64\n",
        "x = Dropout(0.2)(x)\n",
        "x = LSTM(64)(x)\n",
        "predictions = Dense(2, activation='softmax')(x)\n",
        "\n",
        "model = Model(sequence_input, predictions)\n",
        "model.compile(loss='categorical_crossentropy',\n",
        "              optimizer='adam',\n",
        "              metrics=['acc'])"
      ],
      "execution_count": null,
      "outputs": []
    },
    {
      "cell_type": "code",
      "metadata": {
        "colab": {
          "base_uri": "https://localhost:8080/"
        },
        "id": "stgLFslua2UW",
        "outputId": "d8b3f08e-5e99-480f-9c90-207e606ed2d7"
      },
      "source": [
        "history3=model.fit(x_train, y_train, validation_split=0.1,\n",
        "          epochs=20, batch_size=128)"
      ],
      "execution_count": null,
      "outputs": [
        {
          "output_type": "stream",
          "text": [
            "Epoch 1/20\n",
            "400/400 [==============================] - 146s 360ms/step - loss: 0.1548 - acc: 0.9439 - val_loss: 0.3723 - val_acc: 0.8920\n",
            "Epoch 2/20\n",
            "400/400 [==============================] - 145s 362ms/step - loss: 0.0932 - acc: 0.9659 - val_loss: 0.3899 - val_acc: 0.9022\n",
            "Epoch 3/20\n",
            "400/400 [==============================] - 142s 355ms/step - loss: 0.0776 - acc: 0.9736 - val_loss: 0.4137 - val_acc: 0.8914\n",
            "Epoch 4/20\n",
            "400/400 [==============================] - 143s 358ms/step - loss: 0.0672 - acc: 0.9767 - val_loss: 0.4379 - val_acc: 0.9083\n",
            "Epoch 5/20\n",
            "400/400 [==============================] - 143s 358ms/step - loss: 0.0539 - acc: 0.9814 - val_loss: 0.4709 - val_acc: 0.9025\n",
            "Epoch 6/20\n",
            "400/400 [==============================] - 144s 360ms/step - loss: 0.0451 - acc: 0.9846 - val_loss: 0.4825 - val_acc: 0.9050\n",
            "Epoch 7/20\n",
            "400/400 [==============================] - 142s 356ms/step - loss: 0.0381 - acc: 0.9872 - val_loss: 0.5177 - val_acc: 0.9068\n",
            "Epoch 8/20\n",
            "400/400 [==============================] - 141s 353ms/step - loss: 0.0356 - acc: 0.9886 - val_loss: 0.5815 - val_acc: 0.8971\n",
            "Epoch 9/20\n",
            "400/400 [==============================] - 141s 353ms/step - loss: 0.0307 - acc: 0.9898 - val_loss: 0.6433 - val_acc: 0.9024\n",
            "Epoch 10/20\n",
            "400/400 [==============================] - 141s 353ms/step - loss: 0.0279 - acc: 0.9904 - val_loss: 0.6377 - val_acc: 0.9039\n",
            "Epoch 11/20\n",
            "400/400 [==============================] - 140s 350ms/step - loss: 0.0196 - acc: 0.9941 - val_loss: 0.6557 - val_acc: 0.9006\n",
            "Epoch 12/20\n",
            "400/400 [==============================] - 139s 346ms/step - loss: 0.0212 - acc: 0.9932 - val_loss: 0.6686 - val_acc: 0.9011\n",
            "Epoch 13/20\n",
            "400/400 [==============================] - 137s 342ms/step - loss: 0.0206 - acc: 0.9932 - val_loss: 0.6934 - val_acc: 0.8988\n",
            "Epoch 14/20\n",
            "400/400 [==============================] - 137s 341ms/step - loss: 0.0165 - acc: 0.9948 - val_loss: 0.7448 - val_acc: 0.9069\n",
            "Epoch 15/20\n",
            "400/400 [==============================] - 137s 342ms/step - loss: 0.0149 - acc: 0.9956 - val_loss: 0.7789 - val_acc: 0.8922\n",
            "Epoch 16/20\n",
            "400/400 [==============================] - 140s 351ms/step - loss: 0.0146 - acc: 0.9956 - val_loss: 0.7644 - val_acc: 0.8992\n",
            "Epoch 17/20\n",
            "400/400 [==============================] - 141s 353ms/step - loss: 0.0132 - acc: 0.9959 - val_loss: 0.7920 - val_acc: 0.9020\n",
            "Epoch 18/20\n",
            "400/400 [==============================] - 140s 349ms/step - loss: 0.0120 - acc: 0.9964 - val_loss: 0.8188 - val_acc: 0.8994\n",
            "Epoch 19/20\n",
            "400/400 [==============================] - 140s 351ms/step - loss: 0.0127 - acc: 0.9958 - val_loss: 0.8023 - val_acc: 0.8987\n",
            "Epoch 20/20\n",
            "400/400 [==============================] - 140s 351ms/step - loss: 0.0109 - acc: 0.9965 - val_loss: 0.8479 - val_acc: 0.8955\n"
          ],
          "name": "stdout"
        }
      ]
    },
    {
      "cell_type": "code",
      "metadata": {
        "colab": {
          "base_uri": "https://localhost:8080/",
          "height": 312
        },
        "id": "MZl70eUel_5h",
        "outputId": "b8dbaae7-0cb1-4787-a831-9d183dcdd63f"
      },
      "source": [
        "plt.plot(history3.history['acc'])\n",
        "plt.plot(history3.history['val_acc'])\n",
        "plt.title('accuracy')\n",
        "plt.ylabel('acc')\n",
        "plt.xlabel('epoch')\n",
        "plt.legend(['train','val'], loc='lower right')\n",
        "plt.show"
      ],
      "execution_count": null,
      "outputs": [
        {
          "output_type": "execute_result",
          "data": {
            "text/plain": [
              "<function matplotlib.pyplot.show>"
            ]
          },
          "metadata": {
            "tags": []
          },
          "execution_count": 123
        },
        {
          "output_type": "display_data",
          "data": {
            "image/png": "[encoded data removed]",
            "text/plain": [
              "<Figure size 432x288 with 1 Axes>"
            ]
          },
          "metadata": {
            "tags": [],
            "needs_background": "light"
          }
        }
      ]
    },
    {
      "cell_type": "code",
      "metadata": {
        "colab": {
          "base_uri": "https://localhost:8080/",
          "height": 312
        },
        "id": "c9rfgmM6mtBM",
        "outputId": "5a373760-c126-4cc1-e8c0-b1d1efa2ebd7"
      },
      "source": [
        "plt.plot(history3.history['loss'])\n",
        "plt.plot(history3.history['val_loss'])\n",
        "plt.title(' model loss')\n",
        "plt.ylabel('loss')\n",
        "plt.xlabel('epoch')\n",
        "plt.legend(['train','val'], loc='lower right')\n",
        "plt.show"
      ],
      "execution_count": null,
      "outputs": [
        {
          "output_type": "execute_result",
          "data": {
            "text/plain": [
              "<function matplotlib.pyplot.show>"
            ]
          },
          "metadata": {
            "tags": []
          },
          "execution_count": 124
        },
        {
          "output_type": "display_data",
          "data": {
            "image/png": "[encoded data removed]",
            "text/plain": [
              "<Figure size 432x288 with 1 Axes>"
            ]
          },
          "metadata": {
            "tags": [],
            "needs_background": "light"
          }
        }
      ]
    },
    {
      "cell_type": "code",
      "metadata": {
        "colab": {
          "base_uri": "https://localhost:8080/"
        },
        "id": "yV7yjengm3XT",
        "outputId": "ac59d51f-f7a6-4e99-cf7f-19d3322f0e9d"
      },
      "source": [
        "output_test = model.predict(x_test)\n",
        "print(\"test auc:\", roc_auc_score(y_test,output_test[:,1]))"
      ],
      "execution_count": null,
      "outputs": [
        {
          "output_type": "stream",
          "text": [
            "test auc: 0.8518460321001581\n"
          ],
          "name": "stdout"
        }
      ]
    },
    {
      "cell_type": "code",
      "metadata": {
        "id": "tGhBVGpTn9p3"
      },
      "source": [
        "from keras import backend as K\n",
        "layer_output = K.function([model.layers[0].input],\n",
        "                                  [model.layers[2].input])\n",
        "embedding_output = layer_output([x_test[:3000]])[0]"
      ],
      "execution_count": null,
      "outputs": []
    },
    {
      "cell_type": "code",
      "metadata": {
        "id": "tUb3t8K6oJhP"
      },
      "source": [
        "emb_shape = embedding_output.shape\n",
        "to_plot_embedding = embedding_output.reshape(emb_shape[0],emb_shape[1]*emb_shape[2])\n",
        "y = y_test[:3000]"
      ],
      "execution_count": null,
      "outputs": []
    },
    {
      "cell_type": "code",
      "metadata": {
        "id": "DwlecsDHoQt2"
      },
      "source": [
        "emb_tsne = TSNE(perplexity=30).fit_transform(to_plot_embedding)"
      ],
      "execution_count": null,
      "outputs": []
    },
    {
      "cell_type": "code",
      "metadata": {
        "colab": {
          "base_uri": "https://localhost:8080/"
        },
        "id": "CXU3Pms_vuV2",
        "outputId": "4a5a3205-f6eb-4170-ac55-fb94a353b88b"
      },
      "source": [
        "print(emb_tsne.shape)\n",
        "print(y.shape)"
      ],
      "execution_count": null,
      "outputs": [
        {
          "output_type": "stream",
          "text": [
            "(3000, 2)\n",
            "(3000,)\n"
          ],
          "name": "stdout"
        }
      ]
    },
    {
      "cell_type": "code",
      "metadata": {
        "colab": {
          "base_uri": "https://localhost:8080/",
          "height": 295
        },
        "id": "43Cm2ivZv8e7",
        "outputId": "4d8a1e1a-3310-40da-ff90-67f722925a24"
      },
      "source": [
        "plt.figure()\n",
        "plt.scatter(emb_tsne[np.where(y == 0), 0],\n",
        "                   emb_tsne[np.where(y == 0), 1],\n",
        "                   marker='x', color='r',\n",
        "                   linewidth='1', alpha=0.8, label='Happy')\n",
        "plt.scatter(emb_tsne[np.where(y == 1), 0],\n",
        "                   emb_tsne[np.where(y == 1), 1],\n",
        "                   marker='v', color='g',\n",
        "                   linewidth='1', alpha=0.8, label='Unhappy')\n",
        "\n",
        "plt.xlabel('Dim 1')\n",
        "plt.ylabel('Dim 2')\n",
        "plt.title('T-SNE')\n",
        "plt.legend(loc='best')\n",
        "plt.savefig('1.png')\n",
        "plt.show()  "
      ],
      "execution_count": null,
      "outputs": [
        {
          "output_type": "display_data",
          "data": {
            "image/png": "[encoded data removed]",
            "text/plain": [
              "<Figure size 432x288 with 1 Axes>"
            ]
          },
          "metadata": {
            "tags": [],
            "needs_background": "light"
          }
        }
      ]
    }
  ]
}